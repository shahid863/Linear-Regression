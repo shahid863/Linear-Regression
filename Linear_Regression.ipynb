{
  "nbformat": 4,
  "nbformat_minor": 0,
  "metadata": {
    "colab": {
      "name": "Linear Regression.ipynb",
      "provenance": [],
      "authorship_tag": "ABX9TyPuxb2tytO3JZaP1Zrz612a",
      "include_colab_link": true
    },
    "kernelspec": {
      "name": "python3",
      "display_name": "Python 3"
    },
    "language_info": {
      "name": "python"
    }
  },
  "cells": [
    {
      "cell_type": "markdown",
      "metadata": {
        "id": "view-in-github",
        "colab_type": "text"
      },
      "source": [
        "<a href=\"https://colab.research.google.com/github/shahid863/Linear-Regression/blob/main/Linear_Regression.ipynb\" target=\"_parent\"><img src=\"https://colab.research.google.com/assets/colab-badge.svg\" alt=\"Open In Colab\"/></a>"
      ]
    },
    {
      "cell_type": "code",
      "metadata": {
        "id": "_VgiR0d_sV_z"
      },
      "source": [
        "import numpy as np \n",
        "import pandas as pd\n",
        "import matplotlib.pyplot as plt\n",
        "import seaborn as sns"
      ],
      "execution_count": 2,
      "outputs": []
    },
    {
      "cell_type": "code",
      "metadata": {
        "id": "33qJRQXbsWeJ"
      },
      "source": [
        "data_train = pd.read_csv(\"/content/train.csv\")  \n",
        "data_test = pd.read_csv(\"/content/test.csv\") "
      ],
      "execution_count": 3,
      "outputs": []
    },
    {
      "cell_type": "code",
      "metadata": {
        "colab": {
          "base_uri": "https://localhost:8080/"
        },
        "id": "S3lOaF8Gstmj",
        "outputId": "60de9707-114b-4d7c-9bf2-42bfda45a59e"
      },
      "source": [
        "data_train.shape"
      ],
      "execution_count": 5,
      "outputs": [
        {
          "output_type": "execute_result",
          "data": {
            "text/plain": [
              "(700, 2)"
            ]
          },
          "metadata": {},
          "execution_count": 5
        }
      ]
    },
    {
      "cell_type": "code",
      "metadata": {
        "colab": {
          "base_uri": "https://localhost:8080/"
        },
        "id": "ZO49HZhJs0OG",
        "outputId": "53ef8668-0de2-4579-c229-f83ae7b3aee6"
      },
      "source": [
        "data_test.shape"
      ],
      "execution_count": 6,
      "outputs": [
        {
          "output_type": "execute_result",
          "data": {
            "text/plain": [
              "(300, 2)"
            ]
          },
          "metadata": {},
          "execution_count": 6
        }
      ]
    },
    {
      "cell_type": "code",
      "metadata": {
        "colab": {
          "base_uri": "https://localhost:8080/"
        },
        "id": "0Lw0A7ijs2kq",
        "outputId": "c1b18aa8-a3ed-483a-ec70-c5bbdeda7975"
      },
      "source": [
        "data_train.isna().sum()"
      ],
      "execution_count": 8,
      "outputs": [
        {
          "output_type": "execute_result",
          "data": {
            "text/plain": [
              "x    0\n",
              "y    1\n",
              "dtype: int64"
            ]
          },
          "metadata": {},
          "execution_count": 8
        }
      ]
    },
    {
      "cell_type": "code",
      "metadata": {
        "id": "0iDNff0ys7Qw"
      },
      "source": [
        "data_train =  data_train.dropna()  #dropped the value"
      ],
      "execution_count": 9,
      "outputs": []
    },
    {
      "cell_type": "code",
      "metadata": {
        "colab": {
          "base_uri": "https://localhost:8080/"
        },
        "id": "aIQ2u5pes_Om",
        "outputId": "f5ad242d-6cad-48fd-9053-850c4d8bee13"
      },
      "source": [
        "data_train.shape"
      ],
      "execution_count": 10,
      "outputs": [
        {
          "output_type": "execute_result",
          "data": {
            "text/plain": [
              "(699, 2)"
            ]
          },
          "metadata": {},
          "execution_count": 10
        }
      ]
    },
    {
      "cell_type": "code",
      "metadata": {
        "colab": {
          "base_uri": "https://localhost:8080/"
        },
        "id": "LsWojoOntB2e",
        "outputId": "9491dca3-d18c-4a40-e1c2-934269499e08"
      },
      "source": [
        "data_test.isna().sum()"
      ],
      "execution_count": 11,
      "outputs": [
        {
          "output_type": "execute_result",
          "data": {
            "text/plain": [
              "x    0\n",
              "y    0\n",
              "dtype: int64"
            ]
          },
          "metadata": {},
          "execution_count": 11
        }
      ]
    },
    {
      "cell_type": "markdown",
      "metadata": {
        "id": "jtwhxk-ktMvF"
      },
      "source": [
        "Vizualisation"
      ]
    },
    {
      "cell_type": "code",
      "metadata": {
        "colab": {
          "base_uri": "https://localhost:8080/",
          "height": 265
        },
        "id": "EKeYeLjctETs",
        "outputId": "bf283e51-afb1-4c2f-d47d-977b62f902ed"
      },
      "source": [
        "plt.boxplot(data_train)\n",
        "plt.show()"
      ],
      "execution_count": 12,
      "outputs": [
        {
          "output_type": "display_data",
          "data": {
            "image/png": "[encoded data removed]",
            "text/plain": [
              "<Figure size 432x288 with 1 Axes>"
            ]
          },
          "metadata": {
            "needs_background": "light"
          }
        }
      ]
    },
    {
      "cell_type": "code",
      "metadata": {
        "colab": {
          "base_uri": "https://localhost:8080/",
          "height": 265
        },
        "id": "XS2KzBQytG7k",
        "outputId": "026ed572-8865-46da-c8fb-c6aa3774ae8f"
      },
      "source": [
        "plt.boxplot(data_test)\n",
        "plt.show()"
      ],
      "execution_count": 13,
      "outputs": [
        {
          "output_type": "display_data",
          "data": {
            "image/png": "[encoded data removed]",
            "text/plain": [
              "<Figure size 432x288 with 1 Axes>"
            ]
          },
          "metadata": {
            "needs_background": "light"
          }
        }
      ]
    },
    {
      "cell_type": "code",
      "metadata": {
        "colab": {
          "base_uri": "https://localhost:8080/",
          "height": 269
        },
        "id": "5kYcpSHhtLdZ",
        "outputId": "193921cd-a45d-4300-bdb3-0eb073cefc43"
      },
      "source": [
        "sns.heatmap(data_train.corr())\n",
        "plt.show()"
      ],
      "execution_count": 14,
      "outputs": [
        {
          "output_type": "display_data",
          "data": {
            "image/png": "[encoded data removed]",
            "text/plain": [
              "<Figure size 432x288 with 2 Axes>"
            ]
          },
          "metadata": {
            "needs_background": "light"
          }
        }
      ]
    },
    {
      "cell_type": "markdown",
      "metadata": {
        "id": "o0uAjxvKtWUu"
      },
      "source": [
        "Splitting as X and Y"
      ]
    },
    {
      "cell_type": "code",
      "metadata": {
        "colab": {
          "base_uri": "https://localhost:8080/"
        },
        "id": "wKiAWxm9tTXn",
        "outputId": "19e42521-6441-44ef-d141-a03f729586f3"
      },
      "source": [
        "x_train = data_train['x']\n",
        "x_train.head()"
      ],
      "execution_count": 15,
      "outputs": [
        {
          "output_type": "execute_result",
          "data": {
            "text/plain": [
              "0    24.0\n",
              "1    50.0\n",
              "2    15.0\n",
              "3    38.0\n",
              "4    87.0\n",
              "Name: x, dtype: float64"
            ]
          },
          "metadata": {},
          "execution_count": 15
        }
      ]
    },
    {
      "cell_type": "code",
      "metadata": {
        "id": "V1pm0jrWtakm"
      },
      "source": [
        "y_train = data_train['y']"
      ],
      "execution_count": 16,
      "outputs": []
    },
    {
      "cell_type": "code",
      "metadata": {
        "id": "dPPP0B09tgUo"
      },
      "source": [
        "x_test = data_test['x']"
      ],
      "execution_count": 18,
      "outputs": []
    },
    {
      "cell_type": "code",
      "metadata": {
        "id": "SUDrfNhEtlN6"
      },
      "source": [
        "y_test = data_test['y']"
      ],
      "execution_count": 19,
      "outputs": []
    },
    {
      "cell_type": "markdown",
      "metadata": {
        "id": "JSk5OeyStq2U"
      },
      "source": [
        "Scaling"
      ]
    },
    {
      "cell_type": "code",
      "metadata": {
        "id": "sJxjycc3tmwG"
      },
      "source": [
        "from sklearn.preprocessing import MinMaxScaler"
      ],
      "execution_count": 22,
      "outputs": []
    },
    {
      "cell_type": "code",
      "metadata": {
        "id": "bAffikKLt20D"
      },
      "source": [
        "mn= MinMaxScaler()"
      ],
      "execution_count": 23,
      "outputs": []
    },
    {
      "cell_type": "code",
      "metadata": {
        "id": "r8Rw3G_Ot3ca"
      },
      "source": [
        "x_train = np.array(x_train).reshape(-1,1)"
      ],
      "execution_count": 24,
      "outputs": []
    },
    {
      "cell_type": "code",
      "metadata": {
        "colab": {
          "base_uri": "https://localhost:8080/"
        },
        "id": "mogp8-Iet6Fs",
        "outputId": "34935ffc-c070-4fe5-f0c8-c6d58cec1914"
      },
      "source": [
        "mn.fit(x_train)"
      ],
      "execution_count": 25,
      "outputs": [
        {
          "output_type": "execute_result",
          "data": {
            "text/plain": [
              "MinMaxScaler(copy=True, feature_range=(0, 1))"
            ]
          },
          "metadata": {},
          "execution_count": 25
        }
      ]
    },
    {
      "cell_type": "code",
      "metadata": {
        "id": "v9BzG7KNt9A_"
      },
      "source": [
        "x_train = mn.transform(x_train)"
      ],
      "execution_count": 26,
      "outputs": []
    },
    {
      "cell_type": "code",
      "metadata": {
        "colab": {
          "base_uri": "https://localhost:8080/"
        },
        "id": "Te0mSpyauA3G",
        "outputId": "89239019-26df-4320-afb5-ec88d688a96b"
      },
      "source": [
        "x_train.shape"
      ],
      "execution_count": 27,
      "outputs": [
        {
          "output_type": "execute_result",
          "data": {
            "text/plain": [
              "(699, 1)"
            ]
          },
          "metadata": {},
          "execution_count": 27
        }
      ]
    },
    {
      "cell_type": "code",
      "metadata": {
        "id": "GjNnEPGTuDQ0"
      },
      "source": [
        "x_test = np.array(x_test).reshape(-1,1)"
      ],
      "execution_count": 28,
      "outputs": []
    },
    {
      "cell_type": "code",
      "metadata": {
        "colab": {
          "base_uri": "https://localhost:8080/"
        },
        "id": "-NgyjQ1JuHaD",
        "outputId": "88921df1-dc72-4404-bcd0-a53c248f9b40"
      },
      "source": [
        "x_test.shape"
      ],
      "execution_count": 29,
      "outputs": [
        {
          "output_type": "execute_result",
          "data": {
            "text/plain": [
              "(300, 1)"
            ]
          },
          "metadata": {},
          "execution_count": 29
        }
      ]
    },
    {
      "cell_type": "code",
      "metadata": {
        "colab": {
          "base_uri": "https://localhost:8080/"
        },
        "id": "zI5r4aKNuJjT",
        "outputId": "b03c6043-0a47-4421-f210-7a56aa0b09bc"
      },
      "source": [
        "x_test = mn.transform(x_test) \n",
        "x_test.shape"
      ],
      "execution_count": 30,
      "outputs": [
        {
          "output_type": "execute_result",
          "data": {
            "text/plain": [
              "(300, 1)"
            ]
          },
          "metadata": {},
          "execution_count": 30
        }
      ]
    },
    {
      "cell_type": "code",
      "metadata": {
        "colab": {
          "base_uri": "https://localhost:8080/"
        },
        "id": "1ONIRd4iuMw_",
        "outputId": "449001bf-5e80-4a68-cbaf-40293da46abc"
      },
      "source": [
        "y_train.shape"
      ],
      "execution_count": 31,
      "outputs": [
        {
          "output_type": "execute_result",
          "data": {
            "text/plain": [
              "(699,)"
            ]
          },
          "metadata": {},
          "execution_count": 31
        }
      ]
    },
    {
      "cell_type": "markdown",
      "metadata": {
        "id": "GFNP1d1luW5u"
      },
      "source": [
        "Build the model"
      ]
    },
    {
      "cell_type": "code",
      "metadata": {
        "id": "6vsqsAKguPel"
      },
      "source": [
        "from sklearn.linear_model import LinearRegression"
      ],
      "execution_count": 32,
      "outputs": []
    },
    {
      "cell_type": "code",
      "metadata": {
        "id": "F8krNo4xuR4g"
      },
      "source": [
        "slr=LinearRegression()"
      ],
      "execution_count": 33,
      "outputs": []
    },
    {
      "cell_type": "code",
      "metadata": {
        "colab": {
          "base_uri": "https://localhost:8080/"
        },
        "id": "5xkq7eHruT77",
        "outputId": "d848b286-46ac-4c28-b0d7-023f660defd6"
      },
      "source": [
        "slr.fit(x_train,y_train)"
      ],
      "execution_count": 34,
      "outputs": [
        {
          "output_type": "execute_result",
          "data": {
            "text/plain": [
              "LinearRegression(copy_X=True, fit_intercept=True, n_jobs=None, normalize=False)"
            ]
          },
          "metadata": {},
          "execution_count": 34
        }
      ]
    },
    {
      "cell_type": "code",
      "metadata": {
        "id": "r6rq6-qcucqn"
      },
      "source": [
        "y_pred = slr.predict(x_test)"
      ],
      "execution_count": 35,
      "outputs": []
    },
    {
      "cell_type": "code",
      "metadata": {
        "colab": {
          "base_uri": "https://localhost:8080/"
        },
        "id": "g3k_rSgwuehn",
        "outputId": "ea2c1127-fd76-4a0d-c2ed-3aebfc54d908"
      },
      "source": [
        "y_pred"
      ],
      "execution_count": 36,
      "outputs": [
        {
          "output_type": "execute_result",
          "data": {
            "text/plain": [
              "array([76.94327594, 20.90651855, 21.90717494, 19.90586217, 35.91636428,\n",
              "       14.90258026, 61.93343021, 94.95509081, 19.90586217,  4.89601644,\n",
              "        3.89536006, 18.90520579, 95.95574719, 61.93343021, 35.91636428,\n",
              "       14.90258026, 64.93539936, 13.90192388, 86.94983976, 68.93802488,\n",
              "       88.95115252, 50.92621001, 88.95115252, 26.91045685, 96.95640358,\n",
              "       57.93080468, 78.9445887 , 20.90651855, 92.95377805, 26.91045685,\n",
              "       98.95771634, 30.91308237, 32.91439514, 79.94524508, 27.91111323,\n",
              "       46.92358448, 52.92752277, 68.93802488, 27.91111323, 32.91439514,\n",
              "       90.95246528, 70.93933765, 49.92555363, 75.94261956,  3.89536006,\n",
              "       36.91702066, 69.93868127, 67.9373685 , 39.91898981, 34.9157079 ,\n",
              "       93.95443443, 87.95049614, 51.92686639, 30.91308237, 58.93146107,\n",
              "       -0.10726546, 38.91833343, 63.93474297, 68.93802488, 56.9301483 ,\n",
              "       12.9012675 , 71.93999403, 75.94261956, 60.93277383, 81.94655785,\n",
              "       17.90454941, 40.91964619, 49.92555363, 54.92883554, 12.9012675 ,\n",
              "       45.9229281 , 12.9012675 , 78.9445887 , 52.92752277, 14.90258026,\n",
              "       27.91111323, 80.94590147, 68.93802488, 51.92686639, 83.94787061,\n",
              "       67.9373685 , 26.91045685, 55.92949192, 47.92424086, 39.91898981,\n",
              "       38.91833343, 81.94655785, 99.95837272, 58.93146107, 42.92095896,\n",
              "       66.93671212, 37.91767705, 62.93408659, 90.95246528, 59.93211745,\n",
              "       13.90192388, 20.90651855, 86.94983976, 72.94065041, 31.91373876,\n",
              "        1.8940473 , 81.94655785, 18.90520579, 73.94130679, 41.92030257,\n",
              "       11.90061112,  0.89339092, 89.9518089 , 88.95115252, -0.10726546,\n",
              "       40.91964619, 15.90323665, 93.95443443, 96.95640358, 65.93605574,\n",
              "       23.9084877 , 16.90389303, 89.9518089 , 12.9012675 , -0.10726546,\n",
              "       63.93474297, 95.95574719, 97.95705996, 11.90061112, 40.91964619,\n",
              "       46.92358448, 77.94393232, 19.90586217, 88.95115252, 28.91176961,\n",
              "       63.93474297, 74.94196317, 11.90061112, 24.90914408, 27.91111323,\n",
              "       29.91242599, 64.93539936, 58.93146107, 63.93474297, 52.92752277,\n",
              "       70.93933765, 96.95640358, 72.94065041,  8.89864197, 11.90061112,\n",
              "       62.93408659, 98.95771634, 59.93211745, 34.9157079 ,  1.8940473 ,\n",
              "       59.93211745, 31.91373876, 93.95443443, 83.94787061, 62.93408659,\n",
              "       21.90717494, 80.94590147, 92.95377805, 32.91439514,  6.89732921,\n",
              "       41.92030257, 45.9229281 , 53.92817916, 15.90323665, 48.92489725,\n",
              "       42.92095896, 94.95509081, 65.93605574, 20.90651855, 34.9157079 ,\n",
              "       79.94524508, 36.91702066, 53.92817916, 55.92949192,  0.89339092,\n",
              "       31.91373876, 57.93080468, 31.91373876, 45.9229281 , 71.93999403,\n",
              "       16.90389303, 96.95640358, 92.95377805, 90.95246528, 36.91702066,\n",
              "        3.89536006, 53.92817916, 50.92621001, 26.91045685, 45.9229281 ,\n",
              "       91.95312167, 72.94065041, 76.94327594, 90.95246528, 60.93277383,\n",
              "       98.95771634,  3.89536006, 71.93999403, 18.90520579, 56.9301483 ,\n",
              "       77.94393232, 25.90980046, 73.94130679, 89.9518089 , 65.93605574,\n",
              "       12.9012675 , 39.91898981, 76.94327594, 66.93671212, 74.94196317,\n",
              "       22.90783132, 44.92227172, 58.93146107, 43.92161534, 22.90783132,\n",
              "       54.92883554, 54.92883554, 94.95509081, 11.90061112,  3.89536006,\n",
              "        6.89732921, 99.95837272, 47.92424086, 41.92030257, 95.95574719,\n",
              "       38.91833343, 99.95837272, 86.94983976, 13.90192388, 13.90192388,\n",
              "       36.91702066,  4.89601644, 87.95049614, 90.95246528, 64.93539936,\n",
              "       73.94130679, 55.92949192, 15.90323665,  4.89601644, 27.91111323,\n",
              "       91.95312167, 45.9229281 , 53.92817916, 38.91833343, 43.92161534,\n",
              "       30.91308237, 67.9373685 , 85.94918338, 89.9518089 , 37.91767705,\n",
              "       20.90651855, 94.95509081, 55.92949192, 59.93211745, 64.93539936,\n",
              "       77.94393232, 88.95115252,  5.89667283, 66.93671212, 35.91636428,\n",
              "       15.90323665, 99.95837272, 44.92227172, 72.94065041, 56.9301483 ,\n",
              "       19.90586217, 75.94261956, 33.91505152, 54.92883554, 71.93999403,\n",
              "       54.92883554,  7.89798559, 55.92949192, 71.93999403, 57.93080468,\n",
              "        5.89667283, 95.95574719, 22.90783132, 57.93080468, 22.90783132,\n",
              "       18.90520579, 24.90914408, 63.93474297, 20.90651855, 58.93146107,\n",
              "       18.90520579, 15.90323665, 41.92030257, 42.92095896, 60.93277383,\n",
              "       91.95312167, 10.89995474, 40.91964619,  0.89339092,  7.89798559,\n",
              "       70.93933765, 45.9229281 , 54.92883554, 61.93343021, 46.92358448])"
            ]
          },
          "metadata": {},
          "execution_count": 36
        }
      ]
    },
    {
      "cell_type": "markdown",
      "metadata": {
        "id": "A51JUYIOuimi"
      },
      "source": [
        "\n",
        "Model Evaluation"
      ]
    },
    {
      "cell_type": "code",
      "metadata": {
        "id": "pdvkB0K-ugi2"
      },
      "source": [
        "from sklearn.metrics import mean_squared_error"
      ],
      "execution_count": 37,
      "outputs": []
    },
    {
      "cell_type": "code",
      "metadata": {
        "colab": {
          "base_uri": "https://localhost:8080/"
        },
        "id": "HC5C2OYQunul",
        "outputId": "c0d5cfdb-5438-4c99-e9e8-79b1feb6aeed"
      },
      "source": [
        "print(mean_squared_error(y_pred,y_test))"
      ],
      "execution_count": 38,
      "outputs": [
        {
          "output_type": "stream",
          "name": "stdout",
          "text": [
            "9.432922192039321\n"
          ]
        }
      ]
    },
    {
      "cell_type": "code",
      "metadata": {
        "colab": {
          "base_uri": "https://localhost:8080/"
        },
        "id": "DNXbgkNxuqD5",
        "outputId": "867dba47-c68d-4dcd-fc56-410f83b84ad6"
      },
      "source": [
        "from sklearn.metrics import r2_score\n",
        "print(r2_score(y_pred,y_test))"
      ],
      "execution_count": 39,
      "outputs": [
        {
          "output_type": "stream",
          "name": "stdout",
          "text": [
            "0.9883666162358453\n"
          ]
        }
      ]
    },
    {
      "cell_type": "code",
      "metadata": {
        "colab": {
          "base_uri": "https://localhost:8080/",
          "height": 265
        },
        "id": "IsEc3qzJur_8",
        "outputId": "04f48353-af7e-4fe0-a5b8-6938bc8bbcad"
      },
      "source": [
        "plt.scatter(x_test,y_test)\n",
        "plt.plot(x_test,y_pred,color=\"black\")\n",
        "plt.show()"
      ],
      "execution_count": 40,
      "outputs": [
        {
          "output_type": "display_data",
          "data": {
            "image/png": "[encoded data removed]",
            "text/plain": [
              "<Figure size 432x288 with 1 Axes>"
            ]
          },
          "metadata": {
            "needs_background": "light"
          }
        }
      ]
    }
  ]
}